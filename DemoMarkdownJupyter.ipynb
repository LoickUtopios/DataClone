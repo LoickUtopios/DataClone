{
 "cells": [
  {
   "cell_type": "markdown",
   "id": "edde3a0c-24fc-429c-8aea-511dc3e74f13",
   "metadata": {},
   "source": [
    "# Tutoriel Markdown pour Jupyter\n",
    "\n",
    "Ce notebook montre comment utiliser du **markdown** dans JupyterLab.\n",
    "\n",
    "Une cellule peut être en mode **Code** (executer du Python) ou en **Markdown** (formatage de texte)"
   ]
  },
  {
   "cell_type": "markdown",
   "id": "e31418ca-2bc5-4ba5-aa16-31ff012173a2",
   "metadata": {},
   "source": [
    "## Titres\n",
    "\n",
    "Nous pouvons créer des titres avec le caractere `#`\n",
    "\n",
    "```\n",
    "# Titre de niveau 1\n",
    "## Titre de niveau 2\n",
    "### Titre de niveau 3\n",
    "```\n",
    "\n",
    "# Titre de niveau 1\n",
    "## Titre de niveau 2\n",
    "### Titre de niveau 3"
   ]
  },
  {
   "cell_type": "markdown",
   "id": "1ef7a0c8-d488-4a91-9fba-70c4c810eb72",
   "metadata": {},
   "source": [
    "## Interpretation du HTML\n",
    "\n",
    "Nous pouvons utiliser des balises html pour le formatage de notre texte. \n",
    "\n",
    "```\n",
    "<h1>Titre de niveau 1</h1>\n",
    "<h2>Titre de niveau 2</h2>\n",
    "<h3>Titre de niveau 3</h3>\n",
    "```\n",
    "\n",
    "<h1>Titre de niveau 1</h1>\n",
    "<h2>Titre de niveau 2</h2>\n",
    "<h3>Titre de niveau 3</h3>"
   ]
  },
  {
   "cell_type": "markdown",
   "id": "4c640d04-1519-45e6-9334-950fda6345d6",
   "metadata": {},
   "source": [
    "## Mise en forme du texte\n",
    "\n",
    "- Italique : `*texte*` -> *texte*\n",
    "- Gras: `**texte**` -> **texte**\n",
    "- Barré: `~~texte~~` -> ~~texte~~\n",
    "- Code: \\`texte\\` -> `texte`\n"
   ]
  },
  {
   "cell_type": "markdown",
   "id": "13bf555d-0471-41b3-8244-34ec63c59b20",
   "metadata": {},
   "source": [
    "# Listes \n",
    "\n",
    "Liste à puces :\n",
    "\n",
    "```\n",
    "- Element 1\n",
    "- Element 2\n",
    "    - Sous-element\n",
    "```\n",
    "\n",
    "- Element 1\n",
    "- Element 2\n",
    "    - Sous-element\n",
    "\n",
    "Liste numérotée : \n",
    "\n",
    "```\n",
    "1. Element 1\n",
    "2. Element 2\n",
    "```\n",
    "\n",
    "1. Element 1\n",
    "2. Element 2"
   ]
  },
  {
   "cell_type": "markdown",
   "id": "48c64f00-7349-40a7-aa31-b5ab63f5c776",
   "metadata": {},
   "source": [
    "# Tableaux \n",
    "\n",
    "```\n",
    "| Nom | Age      | Ville      | \n",
    "|-----|:-----:|-------:|\n",
    "|Toto | 25  | Londre |\n",
    "|Titi | 30  | Paris  |\n",
    "```\n",
    "\n",
    "| Nom de famille | Age de la personne | Ville de naissance | \n",
    "|-----|:-----:|-------:|\n",
    "|Toto | 25  | Londre |\n",
    "|Titi | 30  | Paris  |"
   ]
  },
  {
   "cell_type": "markdown",
   "id": "5789cc5b-c66b-433b-8e49-f40478eda548",
   "metadata": {},
   "source": [
    "# Code\n",
    "\n",
    "Pour afficher un bloc de code, nous pouvons utiliser 3 backstick ``` :\n",
    "\n",
    "```python\n",
    "def hello_world()\n",
    "    print(\"Hello World !!\")\n",
    "```"
   ]
  },
  {
   "cell_type": "markdown",
   "id": "c6ca906d-4bb8-44d4-a2c3-0a0e5c4e21b6",
   "metadata": {},
   "source": [
    "# Mathematiques (LaTeX)\n",
    "\n",
    "On peut insérer des formules : \n",
    "\n",
    "Formule en 1 ligne : `$E = mc^2$` -> $E = mc^2$ \n",
    "\n",
    "Bloc centré: \n",
    "```latex\n",
    "$$\\int_0^1 x^2 dx = \\frac{1}{3}$$\n",
    "```\n",
    "\n",
    "$$\\int_0^1 x^2 dx = \\frac{1}{3}$$"
   ]
  }
 ],
 "metadata": {
  "kernelspec": {
   "display_name": "Python 3 (ipykernel)",
   "language": "python",
   "name": "python3"
  },
  "language_info": {
   "codemirror_mode": {
    "name": "ipython",
    "version": 3
   },
   "file_extension": ".py",
   "mimetype": "text/x-python",
   "name": "python",
   "nbconvert_exporter": "python",
   "pygments_lexer": "ipython3",
   "version": "3.14.0"
  }
 },
 "nbformat": 4,
 "nbformat_minor": 5
}
